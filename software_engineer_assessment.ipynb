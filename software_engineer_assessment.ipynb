{
  "nbformat": 4,
  "nbformat_minor": 0,
  "metadata": {
    "colab": {
      "provenance": [],
      "authorship_tag": "ABX9TyO7rQycValM0kqIF8yaoFvk",
      "include_colab_link": true
    },
    "kernelspec": {
      "name": "python3",
      "display_name": "Python 3"
    },
    "language_info": {
      "name": "python"
    }
  },
  "cells": [
    {
      "cell_type": "markdown",
      "metadata": {
        "id": "view-in-github",
        "colab_type": "text"
      },
      "source": [
        "<a href=\"https://colab.research.google.com/github/kirankumarreddii/software-engineer-assessment/blob/main/software_engineer_assessment.ipynb\" target=\"_parent\"><img src=\"https://colab.research.google.com/assets/colab-badge.svg\" alt=\"Open In Colab\"/></a>"
      ]
    },
    {
      "cell_type": "code",
      "source": [
        "import re\n",
        "import google.auth\n",
        "from googleapiclient.discovery import build\n",
        "from googleapiclient.errors import HttpError\n",
        "from google.colab import auth\n",
        "from google.auth.transport.requests import Request\n",
        "from google.auth.credentials import Credentials\n",
        "from google.oauth2.credentials import Credentials\n",
        "from google.auth.exceptions import DefaultCredentialsError\n",
        "\n",
        "def authenticate_google_docs():\n",
        "    \"\"\"Authenticate and return Google Docs API service.\"\"\"\n",
        "    auth.authenticate_user()\n",
        "    creds, _ = google.auth.default()\n",
        "    return build(\"docs\", \"v1\", credentials=creds)\n",
        "\n",
        "def create_google_doc(title=\"Product Team Sync\"):\n",
        "    \"\"\"Create a new Google Doc and return its document ID.\"\"\"\n",
        "    try:\n",
        "        service = authenticate_google_docs()\n",
        "        doc = service.documents().create(body={\"title\": title}).execute()\n",
        "        return doc['documentId']\n",
        "    except HttpError as error:\n",
        "        print(f\"An error occurred: {error}\")\n",
        "        return None\n",
        "\n",
        "def format_google_doc(doc_id, content):\n",
        "    \"\"\"Format and populate the Google Doc with structured content.\"\"\"\n",
        "    service = authenticate_google_docs()\n",
        "    requests = []\n",
        "\n",
        "    lines = content.split('\\n')\n",
        "    for line in lines:\n",
        "        if line.startswith('# '):  # Heading 1 (Title)\n",
        "            requests.append({\"insertText\": {\"location\": {\"index\": 1}, \"text\": line[2:] + \"\\n\"}})\n",
        "            requests.append({\"updateParagraphStyle\": {\n",
        "                \"range\": {\"startIndex\": 1, \"endIndex\": len(line[2:]) + 1},\n",
        "                \"paragraphStyle\": {\"namedStyleType\": \"HEADING_1\"},\n",
        "                \"fields\": \"namedStyleType\"  # Specify the field to update\n",
        "            }})\n",
        "        elif line.startswith('## '):  # Heading 2\n",
        "            requests.append({\"insertText\": {\"location\": {\"index\": 1}, \"text\": line[3:] + \"\\n\"}})\n",
        "            requests.append({\"updateParagraphStyle\": {\n",
        "                \"range\": {\"startIndex\": 1, \"endIndex\": len(line[3:]) + 1},\n",
        "                \"paragraphStyle\": {\"namedStyleType\": \"HEADING_2\"},\n",
        "                \"fields\": \"namedStyleType\"  # Specify the field to update\n",
        "            }})\n",
        "        elif line.startswith('### '):  # Heading 3\n",
        "            requests.append({\"insertText\": {\"location\": {\"index\": 1}, \"text\": line[4:] + \"\\n\"}})\n",
        "            requests.append({\"updateParagraphStyle\": {\n",
        "                \"range\": {\"startIndex\": 1, \"endIndex\": len(line[4:]) + 1},\n",
        "                \"paragraphStyle\": {\"namedStyleType\": \"HEADING_3\"},\n",
        "                \"fields\": \"namedStyleType\"  # Specify the field to update\n",
        "            }})\n",
        "        elif line.startswith('- [ ] '):  # Checkbox\n",
        "            text = line[6:]\n",
        "            requests.append({\"insertText\": {\"location\": {\"index\": 1}, \"text\": text + \"\\n\"}})\n",
        "            requests.append({\"updateParagraphStyle\": {\n",
        "                \"range\": {\"startIndex\": 1, \"endIndex\": len(text) + 1},\n",
        "                \"paragraphStyle\": {\"namedStyleType\": \"NORMAL_TEXT\"},\n",
        "                \"fields\": \"namedStyleType\"  # Specify the field to update\n",
        "            }})\n",
        "        elif '@' in line:  # Highlight mentions\n",
        "            mentions = re.findall(r'(@\\w+)', line)\n",
        "            for mention in mentions:\n",
        "                line = line.replace(mention, f\"*{mention}*\")\n",
        "            requests.append({\"insertText\": {\"location\": {\"index\": 1}, \"text\": line + \"\\n\"}})\n",
        "        else:  # Normal text\n",
        "            requests.append({\"insertText\": {\"location\": {\"index\": 1}, \"text\": line + \"\\n\"}})\n",
        "\n",
        "    service.documents().batchUpdate(documentId=doc_id, body={\"requests\": requests}).execute()\n",
        "# if __name__ == \"__main__\":\n",
        "#     markdown_notes = \"\"\"# Product Team Sync - May 15, 2023\n",
        "#     ## Attendees\n",
        "#     - Sarah Chen (Product Lead)\n",
        "#     - Mike Johnson (Engineering)\n",
        "#     - Anna Smith (Design)\n",
        "#     - David Park (QA)\n",
        "\n",
        "#     ## Agenda\n",
        "\n",
        "#     ### 1. Sprint Review\n",
        "#     * Completed Features\n",
        "#       * User authentication flow\n",
        "#       * Dashboard redesign\n",
        "#       * Performance optimization\n",
        "#         * Reduced load time by 40%\n",
        "#         * Implemented caching solution\n",
        "#     \"\"\"\n",
        "\n",
        "#     document_id = create_google_doc()\n",
        "#     if document_id:\n",
        "#         format_google_doc(document_id, markdown_notes)\n",
        "#         print(f\"Google Doc created: https://docs.google.com/document/d/{document_id}/edit\")\n"
      ],
      "metadata": {
        "id": "AMITj-nn-Ak9"
      },
      "execution_count": 11,
      "outputs": []
    },
    {
      "cell_type": "code",
      "source": [
        "if __name__ == \"__main__\":\n",
        "    markdown_notes = \"\"\"# Product Team Sync - May 15, 2023\n",
        "    ## Attendees\n",
        "    - Sarah Chen (Product Lead)\n",
        "    - Mike Johnson (Engineering)\n",
        "    - Anna Smith (Design)\n",
        "    - David Park (QA)\n",
        "\n",
        "    ## Agenda\n",
        "\n",
        "    ### 1. Sprint Review\n",
        "    * Completed Features\n",
        "      * User authentication flow\n",
        "      * Dashboard redesign\n",
        "      * Performance optimization\n",
        "        * Reduced load time by 40%\n",
        "        * Implemented caching solution\n",
        "    \"\"\"\n",
        "\n",
        "    document_id = create_google_doc()\n",
        "    if document_id:\n",
        "        format_google_doc(document_id, markdown_notes)\n",
        "        print(f\"Google Doc created: https://docs.google.com/document/d/{document_id}/edit\")\n"
      ],
      "metadata": {
        "colab": {
          "base_uri": "https://localhost:8080/"
        },
        "id": "7y31_bHL-WPP",
        "outputId": "adfeac2a-da0b-48ab-a84d-98f1a0921f54"
      },
      "execution_count": 12,
      "outputs": [
        {
          "output_type": "stream",
          "name": "stdout",
          "text": [
            "Google Doc created: https://docs.google.com/document/d/1-tC2EWkINYIrkwStKCtjseZOIVzPGT00V3k5E5CT4kY/edit\n"
          ]
        }
      ]
    }
  ]
}